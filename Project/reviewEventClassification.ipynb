{
  "nbformat": 4,
  "nbformat_minor": 0,
  "metadata": {
    "colab": {
      "name": "reviewEventClassification.ipynb",
      "provenance": [],
      "collapsed_sections": []
    },
    "kernelspec": {
      "name": "python3",
      "display_name": "Python 3"
    },
    "language_info": {
      "name": "python"
    }
  },
  "cells": [
    {
      "cell_type": "code",
      "metadata": {
        "colab": {
          "base_uri": "https://localhost:8080/"
        },
        "id": "y4KbuEiXcHpP",
        "outputId": "c19e892e-eace-40a2-993c-ff989293b054"
      },
      "source": [
        "from google.colab import drive\n",
        "drive.mount('/content/drive')"
      ],
      "execution_count": 7,
      "outputs": [
        {
          "output_type": "stream",
          "name": "stdout",
          "text": [
            "Drive already mounted at /content/drive; to attempt to forcibly remount, call drive.mount(\"/content/drive\", force_remount=True).\n"
          ]
        }
      ]
    },
    {
      "cell_type": "code",
      "metadata": {
        "colab": {
          "base_uri": "https://localhost:8080/"
        },
        "id": "w5LlNixqbjQw",
        "outputId": "59e06fb0-d491-4c35-a597-c746a966fd38"
      },
      "source": [
        "import sqlite3\n",
        "import pandas as pd\n",
        "import os\n",
        "import torch\n",
        "from transformers import AutoTokenizer, AutoModelForSequenceClassification, TextClassificationPipeline, pipeline\n",
        "\n",
        "cnx = sqlite3.connect('/content/drive/My Drive/CAFE달달.db') # db 파일 경로 입력\n",
        "dataCSV = pd.read_sql_query(\"SELECT * FROM crowling_all\", cnx)\n",
        "\n",
        "cnx.commit()\n",
        "cnx.close()\n",
        "\n",
        "def use_split_join(data):\n",
        "    string = ' '.join(data.split())\n",
        "    return string\n",
        "\n",
        "\n",
        "dataCSV['comment'] = dataCSV['comment'].str.join('').str.replace(r\"\\n\", \"\") # 줄바꿈 제거\n",
        "\n",
        "# 전처리\n",
        "dataCSV['comment'] = dataCSV['comment'].str.replace(pat=r'[^\\w]', repl=r' ', regex=True) # 특수문자를 공백으로\n",
        "dataCSV['comment'] = dataCSV['comment'].apply(use_split_join) # 여러개 공백을 하나로 바꿈\n",
        "\n",
        "example = dataCSV['comment'].tolist()\n",
        "\n",
        "\n",
        "\n",
        "## sentiment analysis\n",
        "koelectra_finetuned_model_dir = os.path.join('/content/drive/My Drive/',\"koelectra-review-finetune.bin\")\n",
        "tokenizer = AutoTokenizer.from_pretrained(\"monologg/koelectra-base-v3-discriminator\")\n",
        "model = AutoModelForSequenceClassification.from_pretrained(\"monologg/koelectra-base-v3-discriminator\")\n",
        "model.load_state_dict(torch.load(koelectra_finetuned_model_dir, map_location=torch.device('cpu')))\n",
        "sentiment_classifier = pipeline('sentiment-analysis', tokenizer=tokenizer, model=model)\n",
        "\n",
        "\n",
        "y_pred = []\n",
        "total_len = len(example)\n",
        "for cnt, review in enumerate(example):\n",
        "    print(review)\n",
        "    pred = sentiment_classifier(review)\n",
        "    print(f\"{cnt} / {total_len} : {pred[0]}\")\n",
        "    if pred[0]['label'] == 'LABEL_1':\n",
        "        y_pred.append(1)\n",
        "    else:\n",
        "        y_pred.append(0)\n",
        "\n"
      ],
      "execution_count": 8,
      "outputs": [
        {
          "output_type": "stream",
          "name": "stderr",
          "text": [
            "Some weights of the model checkpoint at monologg/koelectra-base-v3-discriminator were not used when initializing ElectraForSequenceClassification: ['discriminator_predictions.dense_prediction.weight', 'discriminator_predictions.dense_prediction.bias', 'discriminator_predictions.dense.weight', 'discriminator_predictions.dense.bias']\n",
            "- This IS expected if you are initializing ElectraForSequenceClassification from the checkpoint of a model trained on another task or with another architecture (e.g. initializing a BertForSequenceClassification model from a BertForPreTraining model).\n",
            "- This IS NOT expected if you are initializing ElectraForSequenceClassification from the checkpoint of a model that you expect to be exactly identical (initializing a BertForSequenceClassification model from a BertForSequenceClassification model).\n",
            "Some weights of ElectraForSequenceClassification were not initialized from the model checkpoint at monologg/koelectra-base-v3-discriminator and are newly initialized: ['classifier.dense.bias', 'classifier.dense.weight', 'classifier.out_proj.weight', 'classifier.out_proj.bias']\n",
            "You should probably TRAIN this model on a down-stream task to be able to use it for predictions and inference.\n"
          ]
        },
        {
          "output_type": "stream",
          "name": "stdout",
          "text": [
            "티라미수 오랜만에 먹었는데 맛있네요 사장님 다른 과자 쪼꼬렛은 괜찮거든요 ㅎㅎ\n",
            "0 / 16 : {'label': 'LABEL_0', 'score': 0.9980216026306152}\n",
            "잘 마셨습니다\n",
            "1 / 16 : {'label': 'LABEL_0', 'score': 0.9984897375106812}\n",
            "배X에 한라봉 신메뉴 올라와서 일단 시켰네요ㅎㅎ라봉라봉 한라봉 너무 맛있었어요 여기선 오렌지로 주전부리 손이가요 손이가 잘마셨습니다\n",
            "2 / 16 : {'label': 'LABEL_0', 'score': 0.9976053237915039}\n",
            "늘 양도많고 맛있어요\n",
            "3 / 16 : {'label': 'LABEL_0', 'score': 0.9986112117767334}\n",
            "커피진하고 좋아요 빵도 맛있고 서비스로 주신 쿠키도 맛있었습니다 감사합니다 또 시킬게요\n",
            "4 / 16 : {'label': 'LABEL_1', 'score': 0.9989235997200012}\n",
            "오우우 호박식혜 참 맛있네요 다른 메뉴들은 당연히 맛있고요 서비스로 주신 프레첼도 맛나서 아껴먹었어여 ㅎㅎ\n",
            "5 / 16 : {'label': 'LABEL_1', 'score': 0.9989266991615295}\n",
            "자주 시켜먹던곳인데 한동안 배달앱에 안보여서 아쉬웠는데 다시 보여서 바로 시켰어요 딸기라떼가 대존맛\n",
            "6 / 16 : {'label': 'LABEL_0', 'score': 0.9982170462608337}\n",
            "서비스 무슨일이에요 소소한 행복 배달 빨랐구요 민트초코는 생각보다 단편이지만 부드럽고 맛있어요 치즈케익도 가격대비 짱 짱\n",
            "7 / 16 : {'label': 'LABEL_1', 'score': 0.9989336133003235}\n",
            "맛있어오 주변인가봐요 배송개빠룸\n",
            "8 / 16 : {'label': 'LABEL_0', 'score': 0.9984706044197083}\n",
            "오랜지주스 개크네염 ㅋㄷㅋㄷ\n",
            "9 / 16 : {'label': 'LABEL_0', 'score': 0.9984727501869202}\n",
            "과자도 서비스로 주시고 맛있게 잘먹었습니다\n",
            "10 / 16 : {'label': 'LABEL_1', 'score': 0.9988985061645508}\n",
            "배달 정말 빨랐어요 감사합니다\n",
            "11 / 16 : {'label': 'LABEL_0', 'score': 0.99852055311203}\n",
            "맛있어용 서비스두 많이 주셨네용치즈케이크 진짜 맛있었습니당\n",
            "12 / 16 : {'label': 'LABEL_1', 'score': 0.9989078044891357}\n",
            "배달이 엄청 빠르네요 미숫가루 왤케 맛있죠ㅠ 서비스도 감사해요\n",
            "13 / 16 : {'label': 'LABEL_1', 'score': 0.9989079236984253}\n",
            "과자도 많이 주시고 빨리왔어요 맛있아요\n",
            "14 / 16 : {'label': 'LABEL_0', 'score': 0.9985396862030029}\n",
            "최근 마신 커피 중에 제일 맛있어요바닐라라떼도 넘 맛있고 아메리카노도 최고입니다\n",
            "15 / 16 : {'label': 'LABEL_0', 'score': 0.9975454211235046}\n"
          ]
        }
      ]
    }
  ]
}